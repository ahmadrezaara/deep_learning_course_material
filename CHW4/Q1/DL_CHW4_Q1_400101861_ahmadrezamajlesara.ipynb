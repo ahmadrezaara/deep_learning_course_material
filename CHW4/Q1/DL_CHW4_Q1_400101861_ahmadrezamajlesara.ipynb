{
 "cells": [
  {
   "cell_type": "markdown",
   "metadata": {
    "id": "sp7D0ktn5eiG"
   },
   "source": [
    "\n",
    "<br>\n",
    "<font>\n",
    "<div dir=ltr align=center>\n",
    "<font color=0F5298 size=10>\n",
    "    Deep Learning - HW4 <br>\n",
    "<font color=2565AE size=5>\n",
    "    Electrical Engineering Department <br>\n",
    "    winter 2024<br>\n",
    "<font color=3C99D size=5>\n",
    "    Practical Assignment 1 <br>\n",
    "<font color=696880 size=4>\n",
    "    Niloufar Abbasi \n",
    "\n",
    "____"
   ]
  },
  {
   "cell_type": "markdown",
   "metadata": {},
   "source": [
    "# Emotion Recognition with Recurrent Neural Networks\n"
   ]
  },
  {
   "cell_type": "markdown",
   "metadata": {},
   "source": [
    "---\n",
    "\n",
    "## **Introduction**\n",
    "\n",
    "In this task, you will implement a Recurrent Neural Network (RNN) to perform tweet emotion recognition. The goal is to classify tweets into one of six basic emotions: \n",
    "- **0: sadness**\n",
    "- **1: joy**\n",
    "- **2: love**\n",
    "- **3: anger**\n",
    "- **4: fear**\n",
    "- **5: surprise**\n",
    "\n",
    "We will be using a dataset of tweets, where each tweet has been labeled with one of these emotions. Throughout this notebook, you will follow step-by-step instructions to build and train your model. As you progress, you'll complete the provided TODO sections by filling in the necessary code and functions.\n",
    "\n",
    "By the end of this exercise, you will:\n",
    "- Understand how to preprocess text data for use in RNN models.\n",
    "- Build and train a model using Pytorch.\n",
    "- Evaluate the performance of your model on the test set.\n",
    "\n",
    "---\n"
   ]
  },
  {
   "cell_type": "markdown",
   "metadata": {},
   "source": [
    "---\n",
    "\n",
    "## Task 1: Enter Your Information\n",
    "\n",
    "Before we begin, please enter your **student ID** and **name** in the code section below.\n",
    "\n",
    "Make sure to replace the placeholders with your actual information.\n",
    "\n",
    "---"
   ]
  },
  {
   "cell_type": "code",
   "execution_count": 2,
   "metadata": {
    "execution": {
     "iopub.execute_input": "2024-12-24T11:55:02.662989Z",
     "iopub.status.busy": "2024-12-24T11:55:02.662660Z",
     "iopub.status.idle": "2024-12-24T11:55:02.667848Z",
     "shell.execute_reply": "2024-12-24T11:55:02.666975Z",
     "shell.execute_reply.started": "2024-12-24T11:55:02.662964Z"
    },
    "trusted": true
   },
   "outputs": [
    {
     "name": "stdout",
     "output_type": "stream",
     "text": [
      "Your name: ahmadrezamajlesara\n",
      "Your student ID: 400101861\n"
     ]
    }
   ],
   "source": [
    "#########################################\n",
    "# TODO: Enter your personal information #\n",
    "#########################################\n",
    "\n",
    "student_name = \"ahmadrezamajlesara\"\n",
    "student_id   = 400101861\n",
    "\n",
    "print(\"Your name:\", student_name)\n",
    "print(\"Your student ID:\", student_id)"
   ]
  },
  {
   "cell_type": "markdown",
   "metadata": {},
   "source": [
    "---\n",
    "\n",
    "## Task 2: Setup and Imports\n",
    "\n",
    "In this task, we'll be preparing our environment by importing the necessary libraries. Please run the cells below to set everything up. If any library is missing on your end, make sure to install it.\n",
    "\n",
    "### Instructions:\n",
    "1. **Run the cells** to install any required packages and import the necessary libraries.\n",
    "2. If any library is not installed in your environment, use `!pip install <library_name>` to install it.\n",
    "---"
   ]
  },
  {
   "cell_type": "code",
   "execution_count": 3,
   "metadata": {
    "execution": {
     "iopub.execute_input": "2024-12-24T11:55:10.991693Z",
     "iopub.status.busy": "2024-12-24T11:55:10.991355Z",
     "iopub.status.idle": "2024-12-24T11:55:15.534233Z",
     "shell.execute_reply": "2024-12-24T11:55:15.533371Z",
     "shell.execute_reply.started": "2024-12-24T11:55:10.991668Z"
    },
    "trusted": true
   },
   "outputs": [
    {
     "name": "stdout",
     "output_type": "stream",
     "text": [
      "Requirement already satisfied: datasets in /usr/local/lib/python3.10/dist-packages (3.2.0)\n",
      "Requirement already satisfied: filelock in /usr/local/lib/python3.10/dist-packages (from datasets) (3.16.1)\n",
      "Requirement already satisfied: numpy>=1.17 in /usr/local/lib/python3.10/dist-packages (from datasets) (1.26.4)\n",
      "Requirement already satisfied: pyarrow>=15.0.0 in /usr/local/lib/python3.10/dist-packages (from datasets) (18.1.0)\n",
      "Requirement already satisfied: dill<0.3.9,>=0.3.0 in /usr/local/lib/python3.10/dist-packages (from datasets) (0.3.8)\n",
      "Requirement already satisfied: pandas in /usr/local/lib/python3.10/dist-packages (from datasets) (2.1.4)\n",
      "Requirement already satisfied: requests>=2.32.2 in /usr/local/lib/python3.10/dist-packages (from datasets) (2.32.3)\n",
      "Requirement already satisfied: tqdm>=4.66.3 in /usr/local/lib/python3.10/dist-packages (from datasets) (4.66.5)\n",
      "Requirement already satisfied: xxhash in /usr/local/lib/python3.10/dist-packages (from datasets) (3.5.0)\n",
      "Requirement already satisfied: multiprocess<0.70.17 in /usr/local/lib/python3.10/dist-packages (from datasets) (0.70.16)\n",
      "Requirement already satisfied: fsspec<=2024.9.0,>=2023.1.0 in /usr/local/lib/python3.10/dist-packages (from fsspec[http]<=2024.9.0,>=2023.1.0->datasets) (2024.6.1)\n",
      "Requirement already satisfied: aiohttp in /usr/local/lib/python3.10/dist-packages (from datasets) (3.10.5)\n",
      "Requirement already satisfied: huggingface-hub>=0.23.0 in /usr/local/lib/python3.10/dist-packages (from datasets) (0.24.7)\n",
      "Requirement already satisfied: packaging in /usr/local/lib/python3.10/dist-packages (from datasets) (24.1)\n",
      "Requirement already satisfied: pyyaml>=5.1 in /usr/local/lib/python3.10/dist-packages (from datasets) (6.0.2)\n",
      "Requirement already satisfied: aiohappyeyeballs>=2.3.0 in /usr/local/lib/python3.10/dist-packages (from aiohttp->datasets) (2.4.0)\n",
      "Requirement already satisfied: aiosignal>=1.1.2 in /usr/local/lib/python3.10/dist-packages (from aiohttp->datasets) (1.3.1)\n",
      "Requirement already satisfied: attrs>=17.3.0 in /usr/local/lib/python3.10/dist-packages (from aiohttp->datasets) (24.2.0)\n",
      "Requirement already satisfied: frozenlist>=1.1.1 in /usr/local/lib/python3.10/dist-packages (from aiohttp->datasets) (1.4.1)\n",
      "Requirement already satisfied: multidict<7.0,>=4.5 in /usr/local/lib/python3.10/dist-packages (from aiohttp->datasets) (6.1.0)\n",
      "Requirement already satisfied: yarl<2.0,>=1.0 in /usr/local/lib/python3.10/dist-packages (from aiohttp->datasets) (1.11.1)\n",
      "Requirement already satisfied: async-timeout<5.0,>=4.0 in /usr/local/lib/python3.10/dist-packages (from aiohttp->datasets) (4.0.3)\n",
      "Requirement already satisfied: typing-extensions>=3.7.4.3 in /usr/local/lib/python3.10/dist-packages (from huggingface-hub>=0.23.0->datasets) (4.12.2)\n",
      "Requirement already satisfied: charset-normalizer<4,>=2 in /usr/local/lib/python3.10/dist-packages (from requests>=2.32.2->datasets) (3.3.2)\n",
      "Requirement already satisfied: idna<4,>=2.5 in /usr/local/lib/python3.10/dist-packages (from requests>=2.32.2->datasets) (3.10)\n",
      "Requirement already satisfied: urllib3<3,>=1.21.1 in /usr/local/lib/python3.10/dist-packages (from requests>=2.32.2->datasets) (2.2.3)\n",
      "Requirement already satisfied: certifi>=2017.4.17 in /usr/local/lib/python3.10/dist-packages (from requests>=2.32.2->datasets) (2024.8.30)\n",
      "Requirement already satisfied: python-dateutil>=2.8.2 in /usr/local/lib/python3.10/dist-packages (from pandas->datasets) (2.8.2)\n",
      "Requirement already satisfied: pytz>=2020.1 in /usr/local/lib/python3.10/dist-packages (from pandas->datasets) (2024.2)\n",
      "Requirement already satisfied: tzdata>=2022.1 in /usr/local/lib/python3.10/dist-packages (from pandas->datasets) (2024.1)\n",
      "Requirement already satisfied: six>=1.5 in /usr/local/lib/python3.10/dist-packages (from python-dateutil>=2.8.2->pandas->datasets) (1.16.0)\n"
     ]
    }
   ],
   "source": [
    "!pip install datasets"
   ]
  },
  {
   "cell_type": "markdown",
   "metadata": {},
   "source": [
    "Required Libraries:"
   ]
  },
  {
   "cell_type": "code",
   "execution_count": 3,
   "metadata": {
    "execution": {
     "iopub.execute_input": "2024-12-24T14:37:20.542242Z",
     "iopub.status.busy": "2024-12-24T14:37:20.541836Z",
     "iopub.status.idle": "2024-12-24T14:37:33.773428Z",
     "shell.execute_reply": "2024-12-24T14:37:33.772516Z",
     "shell.execute_reply.started": "2024-12-24T14:37:20.542214Z"
    },
    "trusted": true
   },
   "outputs": [],
   "source": [
    "import torch\n",
    "import numpy as np\n",
    "import matplotlib.pyplot as plt\n",
    "from sklearn.metrics import confusion_matrix\n",
    "from datasets import load_dataset\n",
    "from transformers import AutoTokenizer\n",
    "from tensorflow.keras.preprocessing.sequence import pad_sequences\n",
    "from collections import Counter\n",
    "from imblearn.over_sampling import RandomOverSampler\n",
    "import torch.nn as nn\n",
    "from torch.utils.data import DataLoader, TensorDataset\n",
    "import torch.nn.functional as F\n",
    "import torch.optim as optim\n",
    "\n",
    "%matplotlib inline\n",
    "\n",
    "#####################################################################\n",
    "# TODO: Add any additional libraries you may need for your analysis #\n",
    "#####################################################################\n",
    " \n",
    "# You can add your libraries here"
   ]
  },
  {
   "cell_type": "markdown",
   "metadata": {},
   "source": [
    "### Additional Functions\n",
    "\n",
    "The following functions have been provided to help you visualize the results of your model training. These will allow you to analyze both the model's performance over time (through the training history) and how well it performs on individual predictions (through a confusion matrix).\n",
    "\n",
    "1. **`plot_history(hist)`**: This function takes the training history object (`hist`) from your model and plots both the accuracy and loss over the number of epochs for both training and validation sets. It provides an easy way to visually track the model's learning progress and performance.\n",
    "\n",
    "2. **`visualize_confusion_matrix(actual_labels, predicted_labels, classes)`**: After making predictions with your model, you can use this function to plot a confusion matrix. It shows the accuracy of your model across each class, helping to identify areas where the model is performing well and where it might be struggling. The matrix is normalized to make comparisons easier.\n",
    "\n",
    "These functions are for your convenience, you can directly use them after running your model to visualize the results.\n"
   ]
  },
  {
   "cell_type": "code",
   "execution_count": 4,
   "metadata": {
    "execution": {
     "iopub.execute_input": "2024-12-24T14:37:45.551841Z",
     "iopub.status.busy": "2024-12-24T14:37:45.551215Z",
     "iopub.status.idle": "2024-12-24T14:37:45.559025Z",
     "shell.execute_reply": "2024-12-24T14:37:45.558084Z",
     "shell.execute_reply.started": "2024-12-24T14:37:45.551811Z"
    },
    "trusted": true
   },
   "outputs": [],
   "source": [
    "# Functions to visualize training history and confusion matrix\n",
    "def plot_history(hist):\n",
    "    epochs = len(hist['loss'])\n",
    "    plt.figure(figsize=(16, 6))\n",
    "\n",
    "    # Accuracy plot\n",
    "    plt.subplot(1, 2, 1)\n",
    "    plt.plot(range(1, epochs + 1), hist['accuracy'], label='Training')\n",
    "    plt.plot(range(1, epochs + 1), hist['val_accuracy'], label='Validation')\n",
    "    plt.ylim([0., 1.])\n",
    "    plt.xlabel('Epochs')\n",
    "    plt.ylabel('Accuracy')\n",
    "    plt.title('Training and Validation Accuracy')\n",
    "    plt.legend()\n",
    "\n",
    "    # Loss plot\n",
    "    plt.subplot(1, 2, 2)\n",
    "    plt.plot(range(1, epochs + 1), hist['loss'], label='Training')\n",
    "    plt.plot(range(1, epochs + 1), hist['val_loss'], label='Validation')\n",
    "    plt.xlabel('Epochs')\n",
    "    plt.ylabel('Loss')\n",
    "    plt.title('Training and Validation Loss')\n",
    "    plt.legend()\n",
    "\n",
    "    plt.show()\n",
    "\n",
    "def visualize_confusion_matrix(actual_labels, predicted_labels, classes):\n",
    "\n",
    "    cm = confusion_matrix(actual_labels, predicted_labels, normalize='true')\n",
    "\n",
    "    plt.figure(figsize=(8, 8))\n",
    "    sp = plt.subplot(1, 1, 1)\n",
    "    ctx = sp.matshow(cm)\n",
    "    plt.xticks(list(range(0, 6)), labels=classes)\n",
    "    plt.yticks(list(range(0, 6)), labels=classes)\n",
    "    plt.colorbar(ctx)\n",
    "    plt.show()\n"
   ]
  },
  {
   "cell_type": "markdown",
   "metadata": {},
   "source": [
    "---\n",
    "\n",
    "## Task 3: Importing Data\n",
    "\n",
    "In this task, we will\n",
    "\n",
    "- import the Tweet Emotion dataset\n",
    "\n",
    "- create training, validation, and test sets\n",
    "    \n",
    "- extract the tweets and their corresponding labels for further analysis\n",
    "\n",
    "---"
   ]
  },
  {
   "cell_type": "code",
   "execution_count": 5,
   "metadata": {
    "execution": {
     "iopub.execute_input": "2024-12-24T14:37:49.173317Z",
     "iopub.status.busy": "2024-12-24T14:37:49.173016Z",
     "iopub.status.idle": "2024-12-24T14:37:54.195528Z",
     "shell.execute_reply": "2024-12-24T14:37:54.194656Z",
     "shell.execute_reply.started": "2024-12-24T14:37:49.173292Z"
    },
    "id": "0YHOvjAu5eiL",
    "trusted": true
   },
   "outputs": [
    {
     "data": {
      "application/vnd.jupyter.widget-view+json": {
       "model_id": "645398774ede4144badc6175cc2000de",
       "version_major": 2,
       "version_minor": 0
      },
      "text/plain": [
       "README.md:   0%|          | 0.00/9.05k [00:00<?, ?B/s]"
      ]
     },
     "metadata": {},
     "output_type": "display_data"
    },
    {
     "data": {
      "application/vnd.jupyter.widget-view+json": {
       "model_id": "3481846c9ab64932a3a1cd23fd77b154",
       "version_major": 2,
       "version_minor": 0
      },
      "text/plain": [
       "train-00000-of-00001.parquet:   0%|          | 0.00/1.03M [00:00<?, ?B/s]"
      ]
     },
     "metadata": {},
     "output_type": "display_data"
    },
    {
     "data": {
      "application/vnd.jupyter.widget-view+json": {
       "model_id": "68a366daa0934e9099e47639dbb0d6d4",
       "version_major": 2,
       "version_minor": 0
      },
      "text/plain": [
       "validation-00000-of-00001.parquet:   0%|          | 0.00/127k [00:00<?, ?B/s]"
      ]
     },
     "metadata": {},
     "output_type": "display_data"
    },
    {
     "data": {
      "application/vnd.jupyter.widget-view+json": {
       "model_id": "2847596aed5a4f5d831697430ea240d4",
       "version_major": 2,
       "version_minor": 0
      },
      "text/plain": [
       "test-00000-of-00001.parquet:   0%|          | 0.00/129k [00:00<?, ?B/s]"
      ]
     },
     "metadata": {},
     "output_type": "display_data"
    },
    {
     "data": {
      "application/vnd.jupyter.widget-view+json": {
       "model_id": "17a3919caa384ce7a7bf23f1f06ea07f",
       "version_major": 2,
       "version_minor": 0
      },
      "text/plain": [
       "Generating train split:   0%|          | 0/16000 [00:00<?, ? examples/s]"
      ]
     },
     "metadata": {},
     "output_type": "display_data"
    },
    {
     "data": {
      "application/vnd.jupyter.widget-view+json": {
       "model_id": "a13381cb0bf444838fec8dd44a22e508",
       "version_major": 2,
       "version_minor": 0
      },
      "text/plain": [
       "Generating validation split:   0%|          | 0/2000 [00:00<?, ? examples/s]"
      ]
     },
     "metadata": {},
     "output_type": "display_data"
    },
    {
     "data": {
      "application/vnd.jupyter.widget-view+json": {
       "model_id": "c01c7aaf15ce42d9975694e371c4ea86",
       "version_major": 2,
       "version_minor": 0
      },
      "text/plain": [
       "Generating test split:   0%|          | 0/2000 [00:00<?, ? examples/s]"
      ]
     },
     "metadata": {},
     "output_type": "display_data"
    },
    {
     "data": {
      "text/plain": [
       "DatasetDict({\n",
       "    train: Dataset({\n",
       "        features: ['text', 'label'],\n",
       "        num_rows: 16000\n",
       "    })\n",
       "    validation: Dataset({\n",
       "        features: ['text', 'label'],\n",
       "        num_rows: 2000\n",
       "    })\n",
       "    test: Dataset({\n",
       "        features: ['text', 'label'],\n",
       "        num_rows: 2000\n",
       "    })\n",
       "})"
      ]
     },
     "execution_count": 5,
     "metadata": {},
     "output_type": "execute_result"
    }
   ],
   "source": [
    "dataset = load_dataset('emotion')\n",
    "dataset"
   ]
  },
  {
   "cell_type": "code",
   "execution_count": 6,
   "metadata": {
    "execution": {
     "iopub.execute_input": "2024-12-24T14:37:55.400310Z",
     "iopub.status.busy": "2024-12-24T14:37:55.399972Z",
     "iopub.status.idle": "2024-12-24T14:37:55.405207Z",
     "shell.execute_reply": "2024-12-24T14:37:55.404299Z",
     "shell.execute_reply.started": "2024-12-24T14:37:55.400280Z"
    },
    "id": "2s0h541FxIgc",
    "trusted": true
   },
   "outputs": [
    {
     "name": "stdout",
     "output_type": "stream",
     "text": [
      "{'text': ['i didnt feel humiliated', 'i can go from feeling so hopeless to so damned hopeful just from being around someone who cares and is awake', 'im grabbing a minute to post i feel greedy wrong', 'i am ever feeling nostalgic about the fireplace i will know that it is still on the property', 'i am feeling grouchy'], 'label': [0, 0, 3, 2, 3]}\n"
     ]
    }
   ],
   "source": [
    "# Display the first few samples\n",
    "print(dataset['train'][0:5])  # Adjust 'train' to 'test' or other splits if necessary"
   ]
  },
  {
   "cell_type": "code",
   "execution_count": 7,
   "metadata": {
    "execution": {
     "iopub.execute_input": "2024-12-24T14:37:57.994087Z",
     "iopub.status.busy": "2024-12-24T14:37:57.993776Z",
     "iopub.status.idle": "2024-12-24T14:37:57.998127Z",
     "shell.execute_reply": "2024-12-24T14:37:57.997176Z",
     "shell.execute_reply.started": "2024-12-24T14:37:57.994060Z"
    },
    "id": "z7eCnxU25eiN",
    "trusted": true
   },
   "outputs": [],
   "source": [
    "###########################################################################\n",
    "# TODO: Create variables for the training, validation, and test datasets. #\n",
    "###########################################################################\n",
    "\n",
    "training = dataset['train']\n",
    "validation = dataset['validation']\n",
    "test = dataset['test']"
   ]
  },
  {
   "cell_type": "code",
   "execution_count": 8,
   "metadata": {
    "execution": {
     "iopub.execute_input": "2024-12-24T14:38:00.048429Z",
     "iopub.status.busy": "2024-12-24T14:38:00.048081Z",
     "iopub.status.idle": "2024-12-24T14:38:00.726788Z",
     "shell.execute_reply": "2024-12-24T14:38:00.726107Z",
     "shell.execute_reply.started": "2024-12-24T14:38:00.048404Z"
    },
    "id": "oDYXMfZy5eiP",
    "trusted": true
   },
   "outputs": [
    {
     "name": "stdout",
     "output_type": "stream",
     "text": [
      "i didnt feel humiliated 0\n"
     ]
    }
   ],
   "source": [
    "########################################################################################################\n",
    "# TODO:                                                                                                #\n",
    "# Implement the `extract_tweets_labels` function to iterate over the provided dataset.                 #\n",
    "# Within this function, extract the tweet text and their corresponding labels into two separate lists. #\n",
    "# Then, call this function with the training dataset to obtain the tweets and labels,                  #\n",
    "# ensuring proper data handling for subsequent analysis.                                               #\n",
    "########################################################################################################\n",
    "\n",
    "def extract_tweets_labels(data):\n",
    "    # Extract the text and labels from the data\n",
    "    tweets = [item['text'] for item in data]\n",
    "    labels = [item['label'] for item in data]\n",
    "    return tweets, labels\n",
    "\n",
    "# Get the tweets and labels from the training set\n",
    "tweets, labels = extract_tweets_labels(training)\n",
    "\n",
    "# Display the first tweet and its label\n",
    "print(tweets[0], labels[0])\n"
   ]
  },
  {
   "cell_type": "markdown",
   "metadata": {},
   "source": [
    "---\n",
    "\n",
    "## Task 4: Tokenization of Tweets\n",
    "\n",
    "In this section, we will focus on the tokenization of the tweets in the dataset. Tokenization is a crucial step in natural language processing (NLP) that involves breaking down text into smaller units, such as words or subwords. This process enables the model to better understand and analyze the text data.\n",
    "\n",
    "### Objectives:\n",
    "1. Implement a tokenizer to convert the tweet texts into tokens.\n",
    "2. Ensure the tokenization process handles various aspects of the text, such as punctuation and special characters.\n",
    "\n",
    "By the end of this task, you will have a set of tokenized tweets ready for further processing in your NLP pipeline.\n",
    "\n",
    "---"
   ]
  },
  {
   "cell_type": "code",
   "execution_count": 9,
   "metadata": {
    "execution": {
     "iopub.execute_input": "2024-12-24T14:38:03.155506Z",
     "iopub.status.busy": "2024-12-24T14:38:03.155182Z",
     "iopub.status.idle": "2024-12-24T14:38:04.171850Z",
     "shell.execute_reply": "2024-12-24T14:38:04.170941Z",
     "shell.execute_reply.started": "2024-12-24T14:38:03.155482Z"
    },
    "id": "qfX5-ResxIgq",
    "trusted": true
   },
   "outputs": [
    {
     "data": {
      "application/vnd.jupyter.widget-view+json": {
       "model_id": "b57619ee83e04211b059854d08d4eb27",
       "version_major": 2,
       "version_minor": 0
      },
      "text/plain": [
       "tokenizer_config.json:   0%|          | 0.00/48.0 [00:00<?, ?B/s]"
      ]
     },
     "metadata": {},
     "output_type": "display_data"
    },
    {
     "data": {
      "application/vnd.jupyter.widget-view+json": {
       "model_id": "c8882ab93e7e47d388d1054d2b155778",
       "version_major": 2,
       "version_minor": 0
      },
      "text/plain": [
       "config.json:   0%|          | 0.00/570 [00:00<?, ?B/s]"
      ]
     },
     "metadata": {},
     "output_type": "display_data"
    },
    {
     "data": {
      "application/vnd.jupyter.widget-view+json": {
       "model_id": "02e41971a08746f6a3d4f8ae3446b87b",
       "version_major": 2,
       "version_minor": 0
      },
      "text/plain": [
       "vocab.txt:   0%|          | 0.00/232k [00:00<?, ?B/s]"
      ]
     },
     "metadata": {},
     "output_type": "display_data"
    },
    {
     "data": {
      "application/vnd.jupyter.widget-view+json": {
       "model_id": "8c31c1501d2f4cd9967e333066e3b2ca",
       "version_major": 2,
       "version_minor": 0
      },
      "text/plain": [
       "tokenizer.json:   0%|          | 0.00/466k [00:00<?, ?B/s]"
      ]
     },
     "metadata": {},
     "output_type": "display_data"
    },
    {
     "name": "stdout",
     "output_type": "stream",
     "text": [
      "Original Tweet: i didnt feel humiliated\n",
      "Tokenized Output: ['i', 'didn', '##t', 'feel', 'humiliated']\n"
     ]
    },
    {
     "name": "stderr",
     "output_type": "stream",
     "text": [
      "/usr/local/lib/python3.10/dist-packages/transformers/tokenization_utils_base.py:1601: FutureWarning: `clean_up_tokenization_spaces` was not set. It will be set to `True` by default. This behavior will be depracted in transformers v4.45, and will be then set to `False` by default. For more details check this issue: https://github.com/huggingface/transformers/issues/31884\n",
      "  warnings.warn(\n"
     ]
    }
   ],
   "source": [
    "\n",
    "###############################################################################################################################################\n",
    "# TODO: Tokenization of Tweets                                                                                                                #\n",
    "# 1. Select a Tokenization Method: Choose a suitable tokenization method to preprocess the tweets.                                            #                                 \n",
    "# Ensure that the tokenization handles special characters and maintains the integrity of the text data.                                       #\n",
    "# 2. Implement the Tokenizer: Once you have selected a method, implement the tokenizer to convert the tweet texts into sequences of tokens.   #\n",
    "# 3. Test the Tokenization:                                                                                                                   #\n",
    "# Verify the functionality of your tokenizer by applying it to a sample tweet from the dataset and displaying the resulting tokenized output. #\n",
    "###############################################################################################################################################\n",
    "\n",
    "# Step 1: Select and load the tokenizer (using a pre-trained tokenizer)\n",
    "tokenizer = AutoTokenizer.from_pretrained(\"bert-base-uncased\")\n",
    "\n",
    "# Step 2: Implement the tokenizer function\n",
    "def tokenize_tweet(tweet):\n",
    "    # Tokenize the tweet\n",
    "    tokens = tokenizer.tokenize(tweet)\n",
    "    return tokens\n",
    "\n",
    "# Step 3: Test the tokenization\n",
    "sample_tweet = tweets[0]  # Taking the first tweet from the training set\n",
    "tokenized_output = tokenize_tweet(sample_tweet)\n",
    "\n",
    "# Display the sample tweet and its tokenized version\n",
    "print(\"Original Tweet:\", sample_tweet)\n",
    "print(\"Tokenized Output:\", tokenized_output)"
   ]
  },
  {
   "cell_type": "markdown",
   "metadata": {},
   "source": [
    "---\n",
    "\n",
    "## Task 5: Padding and Truncating Sequences\n",
    "\n",
    "In this task, we will prepare the tokenized tweets for model training by checking their lengths and creating padded sequences.\n",
    "\n",
    "1. **Checking the Length of the Tweets**\n",
    "   - Analyze the distribution of tweet lengths to understand the range of token counts in the dataset.\n",
    "\n",
    "2. **Creating Padded Sequences**\n",
    "   - After tokenizing the tweets, sequences of different lengths must be adjusted to a uniform length to facilitate training.\n",
    "\n",
    "---\n"
   ]
  },
  {
   "cell_type": "code",
   "execution_count": 10,
   "metadata": {
    "execution": {
     "iopub.execute_input": "2024-12-24T14:38:07.892311Z",
     "iopub.status.busy": "2024-12-24T14:38:07.891969Z",
     "iopub.status.idle": "2024-12-24T14:38:09.749531Z",
     "shell.execute_reply": "2024-12-24T14:38:09.748880Z",
     "shell.execute_reply.started": "2024-12-24T14:38:07.892273Z"
    },
    "trusted": true
   },
   "outputs": [
    {
     "data": {
      "image/png": "[encoded data removed]",
      "text/plain": [
       "<Figure size 1000x600 with 1 Axes>"
      ]
     },
     "metadata": {},
     "output_type": "display_data"
    },
    {
     "name": "stdout",
     "output_type": "stream",
     "text": [
      "Minimum tweet length: 2\n",
      "Maximum tweet length: 85\n",
      "Mean tweet length: 20.2595\n",
      "Median tweet length: 18.0\n"
     ]
    }
   ],
   "source": [
    "#####################################################################################################################################################\n",
    "# TODO:                                                                                                                                             #\n",
    "# Implement code to calculate the lengths of the tweets and visualize the distribution using a histogram. Use an appropriate visualization library. #\n",
    "# After visualizing the distribution, determine a suitable maximum length for padding and truncating the sequences based on your findings.          #\n",
    "#####################################################################################################################################################\n",
    "\n",
    "# Calculate the lengths of the tokenized tweets\n",
    "tweet_lengths = [len(tokenize_tweet(tweet)) for tweet in tweets]\n",
    "\n",
    "# Visualize the distribution of tweet lengths\n",
    "plt.figure(figsize=(10, 6))\n",
    "plt.hist(tweet_lengths, bins=30, alpha=0.7, color='blue', edgecolor='black')\n",
    "plt.title(\"Distribution of Tweet Lengths\")\n",
    "plt.xlabel(\"Number of Tokens\")\n",
    "plt.ylabel(\"Frequency\")\n",
    "plt.grid(axis='y')\n",
    "plt.show()\n",
    "\n",
    "# Determine a suitable maximum length for padding/truncating\n",
    "# Print some statistics to help decide\n",
    "print(\"Minimum tweet length:\", min(tweet_lengths))\n",
    "print(\"Maximum tweet length:\", max(tweet_lengths))\n",
    "print(\"Mean tweet length:\", np.mean(tweet_lengths))\n",
    "print(\"Median tweet length:\", np.median(tweet_lengths))"
   ]
  },
  {
   "cell_type": "code",
   "execution_count": 11,
   "metadata": {
    "execution": {
     "iopub.execute_input": "2024-12-24T14:38:13.330082Z",
     "iopub.status.busy": "2024-12-24T14:38:13.329755Z",
     "iopub.status.idle": "2024-12-24T14:38:15.070572Z",
     "shell.execute_reply": "2024-12-24T14:38:15.069821Z",
     "shell.execute_reply.started": "2024-12-24T14:38:13.330053Z"
    },
    "trusted": true
   },
   "outputs": [
    {
     "name": "stdout",
     "output_type": "stream",
     "text": [
      "[ 1045  2134  2102  2514 26608     0     0     0     0     0     0     0\n",
      "     0     0     0     0     0     0     0     0     0     0     0     0\n",
      "     0     0     0     0     0     0     0     0     0     0     0     0\n",
      "     0     0     0     0     0     0     0     0     0     0     0     0\n",
      "     0     0     0     0     0     0     0     0     0     0     0     0\n",
      "     0     0     0     0     0     0     0     0     0     0     0     0\n",
      "     0     0     0     0     0     0     0     0     0     0     0     0\n",
      "     0]\n"
     ]
    }
   ],
   "source": [
    "############################################################################################################\n",
    "# TODO: Define a function to convert the tokenized tweets into sequences and apply padding and truncation. # \n",
    "# Use your determined maximum length for padding the sequences.                                            #\n",
    "############################################################################################################\n",
    "\n",
    "def get_sequences(tokenizer, tweets, max_length):\n",
    "    sequences = [tokenizer.convert_tokens_to_ids(tokenize_tweet(tweet)) for tweet in tweets]\n",
    "    \n",
    "    padded_sequences = pad_sequences(sequences, maxlen=max_length, padding='post', truncating='post')\n",
    "    \n",
    "    return padded_sequences\n",
    "\n",
    "max_length = 85\n",
    "\n",
    "padded_train_sequences = get_sequences(tokenizer, tweets, max_length)\n",
    "\n",
    "print(padded_train_sequences[0])"
   ]
  },
  {
   "cell_type": "markdown",
   "metadata": {
    "id": "BURhOX_KxIg8"
   },
   "source": [
    "---\n",
    "\n",
    "## Task 6: Analyzing Label Distribution\n",
    "\n",
    "1. Checking the distribution of labels.\n",
    "2. Addressing any class imbalance using appropriate techniques.\n",
    "\n",
    "Note:\n",
    "\n",
    "(**Providing a clear explanation of the chosen method to address the imbalance and how it will improve the model’s performance is critical.** Without handling class imbalance properly, the model could achieve a high accuracy by focusing on the majority class, but it may perform poorly on the minority class, which would result in misleading metrics and reduced generalization.\n",
    "\n",
    "Hence, it is important to not only implement an appropriate solution but also **justify** why the selected approach is effective for the given task.)\n",
    "\n",
    "---"
   ]
  },
  {
   "cell_type": "code",
   "execution_count": 12,
   "metadata": {
    "execution": {
     "iopub.execute_input": "2024-12-24T14:38:22.955504Z",
     "iopub.status.busy": "2024-12-24T14:38:22.955113Z",
     "iopub.status.idle": "2024-12-24T14:38:23.534660Z",
     "shell.execute_reply": "2024-12-24T14:38:23.533831Z",
     "shell.execute_reply.started": "2024-12-24T14:38:22.955475Z"
    },
    "id": "SufT2bpD5ejE",
    "trusted": true
   },
   "outputs": [
    {
     "data": {
      "image/png": "[encoded data removed]",
      "text/plain": [
       "<Figure size 1000x600 with 1 Axes>"
      ]
     },
     "metadata": {},
     "output_type": "display_data"
    },
    {
     "name": "stdout",
     "output_type": "stream",
     "text": [
      "Label Distribution: Counter({1: 5362, 0: 4666, 3: 2159, 4: 1937, 2: 1304, 5: 572})\n",
      "New Label Distribution after Oversampling: Counter({0: 5362, 3: 5362, 2: 5362, 5: 5362, 4: 5362, 1: 5362})\n"
     ]
    },
    {
     "data": {
      "image/png": "[encoded data removed]",
      "text/plain": [
       "<Figure size 1000x600 with 1 Axes>"
      ]
     },
     "metadata": {},
     "output_type": "display_data"
    }
   ],
   "source": [
    "##########################################################################################################################\n",
    "# TODO: Analyze the distribution of labels in the training set. (visualize it in a perfect way)                          #\n",
    "# Determine if there is any class imbalance.                                                                             #\n",
    "# If you observe any imbalance, apply one of the techniques you have learned throughout the course to address the issue. #\n",
    "##########################################################################################################################\n",
    "\n",
    "label_counts = Counter(labels)\n",
    "classes = dataset['train'].features['label'].names\n",
    "\n",
    "plt.figure(figsize=(10, 6))\n",
    "plt.bar(classes, [label_counts[i] for i in range(len(classes))], color='skyblue', edgecolor='black')\n",
    "plt.title(\"Label Distribution in the Training Set\")\n",
    "plt.xlabel(\"Classes\")\n",
    "plt.ylabel(\"Frequency\")\n",
    "plt.xticks(rotation=45)\n",
    "plt.grid(axis='y', linestyle='--', alpha=0.7)\n",
    "plt.show()\n",
    "\n",
    "print(\"Label Distribution:\", label_counts)\n",
    "\n",
    "labels_array = np.array(labels)\n",
    "\n",
    "oversampler = RandomOverSampler(random_state=42)\n",
    "balanced_tweets, balanced_labels = oversampler.fit_resample(np.array(tweets).reshape(-1, 1), labels_array)\n",
    "\n",
    "balanced_tweets = balanced_tweets.flatten()\n",
    "\n",
    "balanced_label_counts = Counter(balanced_labels)\n",
    "print(\"New Label Distribution after Oversampling:\", balanced_label_counts)\n",
    "\n",
    "plt.figure(figsize=(10, 6))\n",
    "plt.bar(classes, [balanced_label_counts[i] for i in range(len(classes))], color='lightgreen', edgecolor='black')\n",
    "plt.title(\"Balanced Label Distribution in the Training Set (After Oversampling)\")\n",
    "plt.xlabel(\"Classes\")\n",
    "plt.ylabel(\"Frequency\")\n",
    "plt.xticks(rotation=45)\n",
    "plt.grid(axis='y', linestyle='--', alpha=0.7)\n",
    "plt.show()"
   ]
  },
  {
   "cell_type": "markdown",
   "metadata": {
    "id": "c-v0Mnh8xIhP"
   },
   "source": [
    "---\n",
    "\n",
    "## Task 7: Creating the Model\n",
    "\n",
    "Design and implement a recurrent neural network for the task. You may utilize a sequential architecture like RNN or GRU to enhance the model's performance.\n",
    "\n",
    "Build and compile your model using Pytorch.\n",
    "\n",
    "**Once the model is created, summarize its structure to verify the design.**\n",
    "\n",
    "---"
   ]
  },
  {
   "cell_type": "code",
   "execution_count": 13,
   "metadata": {
    "execution": {
     "iopub.execute_input": "2024-12-24T14:38:26.505648Z",
     "iopub.status.busy": "2024-12-24T14:38:26.505354Z",
     "iopub.status.idle": "2024-12-24T14:38:26.580835Z",
     "shell.execute_reply": "2024-12-24T14:38:26.579931Z",
     "shell.execute_reply.started": "2024-12-24T14:38:26.505626Z"
    },
    "id": "OpewXxPQ5eji",
    "trusted": true
   },
   "outputs": [
    {
     "name": "stdout",
     "output_type": "stream",
     "text": [
      "BiLSTMModel(\n",
      "  (embedding): Embedding(30522, 100)\n",
      "  (lstm): LSTM(100, 128, num_layers=2, batch_first=True, dropout=0.3, bidirectional=True)\n",
      "  (fc): Linear(in_features=256, out_features=6, bias=True)\n",
      "  (dropout): Dropout(p=0.3, inplace=False)\n",
      ")\n"
     ]
    }
   ],
   "source": [
    "#########################################################################################################\n",
    "# TODO:                                                                                                 #\n",
    "# Create a recurrent neural network model for the task.                                                 #\n",
    "# (Suggestion: Implement a Bidirectional LSTM architecture to process the input sequences effectively.) #\n",
    "# Once the model is created, summarize its structure to verify the design.                              #\n",
    "#########################################################################################################\n",
    "\n",
    "class BiLSTMModel(nn.Module):\n",
    "    def __init__(self, vocab_size, embedding_dim, hidden_dim, output_dim, num_layers, dropout):\n",
    "        super(BiLSTMModel, self).__init__()\n",
    "        # Embedding layer\n",
    "        self.embedding = nn.Embedding(vocab_size, embedding_dim)\n",
    "        \n",
    "        # Bidirectional LSTM layer\n",
    "        self.lstm = nn.LSTM(\n",
    "            input_size=embedding_dim, \n",
    "            hidden_size=hidden_dim, \n",
    "            num_layers=num_layers, \n",
    "            bidirectional=True, \n",
    "            batch_first=True, \n",
    "            dropout=dropout\n",
    "        )\n",
    "        \n",
    "        # Fully connected layer\n",
    "        self.fc = nn.Linear(hidden_dim * 2, output_dim)  # *2 because bidirectional\n",
    "        \n",
    "        # Dropout for regularization\n",
    "        self.dropout = nn.Dropout(dropout)\n",
    "\n",
    "    def forward(self, x):\n",
    "        # Pass through embedding layer\n",
    "        embedded = self.embedding(x)\n",
    "        \n",
    "        # Pass through LSTM layer\n",
    "        lstm_out, (hidden, cell) = self.lstm(embedded)\n",
    "        \n",
    "        # Concatenate the forward and backward hidden states\n",
    "        hidden = torch.cat((hidden[-2,:,:], hidden[-1,:,:]), dim=1)\n",
    "        \n",
    "        # Pass through dropout and fully connected layer\n",
    "        output = self.dropout(hidden)\n",
    "        output = self.fc(output)\n",
    "        \n",
    "        return output\n",
    "\n",
    "# Hyperparameters\n",
    "vocab_size = len(tokenizer.vocab)  # Vocabulary size from tokenizer\n",
    "embedding_dim = 100  # Embedding dimension\n",
    "hidden_dim = 128  # Hidden size of LSTM\n",
    "output_dim = len(classes)  # Number of output classes\n",
    "num_layers = 2  # Number of LSTM layers\n",
    "dropout = 0.3  # Dropout rate\n",
    "\n",
    "# Create the model\n",
    "model = BiLSTMModel(vocab_size, embedding_dim, hidden_dim, output_dim, num_layers, dropout)\n",
    "\n",
    "# Summarize the model structure\n",
    "print(model)"
   ]
  },
  {
   "cell_type": "markdown",
   "metadata": {
    "id": "1HST_CHjxIhR"
   },
   "source": [
    "---\n",
    "\n",
    "## Task 8: Training the Model\n",
    "\n",
    "In this task, you will prepare a validation set and train your model using the training data.\n",
    "\n",
    "1. Prepare the validation set by extracting tweets and labels, and convert them into sequences using the tokenizer.\n",
    "2. Train the model on the training data.\n",
    "3. Ensure that you implement **Early Stopping** to prevent overfitting and enhance efficiency.\n",
    "\n",
    "Make sure to monitor the validation accuracy during training and adjust the parameters as necessary.\n",
    "\n",
    "---"
   ]
  },
  {
   "cell_type": "code",
   "execution_count": 14,
   "metadata": {
    "execution": {
     "iopub.execute_input": "2024-12-24T14:38:31.641498Z",
     "iopub.status.busy": "2024-12-24T14:38:31.641197Z",
     "iopub.status.idle": "2024-12-24T14:39:08.834313Z",
     "shell.execute_reply": "2024-12-24T14:39:08.833561Z",
     "shell.execute_reply.started": "2024-12-24T14:38:31.641469Z"
    },
    "id": "Ff7F3hCK5ejm",
    "trusted": true
   },
   "outputs": [
    {
     "name": "stdout",
     "output_type": "stream",
     "text": [
      "Using device: cuda\n",
      "Epoch 1/20\n",
      "Training Loss: 1.3877 | Training Accuracy: 0.4614\n",
      "Validation Loss: 0.9646 | Validation Accuracy: 0.6620\n",
      "Epoch 2/20\n",
      "Training Loss: 0.7129 | Training Accuracy: 0.7571\n",
      "Validation Loss: 0.5798 | Validation Accuracy: 0.8035\n",
      "Epoch 3/20\n",
      "Training Loss: 0.3663 | Training Accuracy: 0.8743\n",
      "Validation Loss: 0.3677 | Validation Accuracy: 0.8755\n",
      "Epoch 4/20\n",
      "Training Loss: 0.2084 | Training Accuracy: 0.9250\n",
      "Validation Loss: 0.3084 | Validation Accuracy: 0.8915\n",
      "Epoch 5/20\n",
      "Training Loss: 0.1472 | Training Accuracy: 0.9427\n",
      "Validation Loss: 0.2776 | Validation Accuracy: 0.9035\n",
      "Epoch 6/20\n",
      "Training Loss: 0.1085 | Training Accuracy: 0.9557\n",
      "Validation Loss: 0.2843 | Validation Accuracy: 0.9085\n",
      "Epoch 7/20\n",
      "Training Loss: 0.0898 | Training Accuracy: 0.9669\n",
      "Validation Loss: 0.2866 | Validation Accuracy: 0.9065\n",
      "Epoch 8/20\n",
      "Training Loss: 0.0760 | Training Accuracy: 0.9694\n",
      "Validation Loss: 0.2945 | Validation Accuracy: 0.9050\n",
      "Early stopping triggered.\n"
     ]
    }
   ],
   "source": [
    "###############################################################################################################\n",
    "# TODO: Extract the tweets and labels from the validation set. Convert the tweets into sequences using the    #\n",
    "#       tokenizer defined earlier. Prepare the data for validation and ensure it matches the format of the    #\n",
    "#       training set.                                                                                         #\n",
    "###############################################################################################################\n",
    "\n",
    "# Your code for extracting and processing validation data goes here\n",
    "device = torch.device(\"cuda\" if torch.cuda.is_available() else \"cpu\")\n",
    "\n",
    "# Print the device being used\n",
    "print(f\"Using device: {device}\")\n",
    "\n",
    "# Move the model to the selected device\n",
    "model = model.to(device)\n",
    "# Extract validation tweets and labels\n",
    "val_tweets, val_labels = extract_tweets_labels(validation)\n",
    "\n",
    "# Convert tweets into sequences\n",
    "padded_val_sequences = get_sequences(tokenizer, val_tweets, max_length)\n",
    "\n",
    "# Convert to PyTorch tensors\n",
    "val_sequences_tensor = torch.tensor(padded_val_sequences).to(device)\n",
    "val_labels_tensor = torch.tensor(val_labels).to(device)\n",
    "\n",
    "# Create DataLoader for validation data\n",
    "val_data = TensorDataset(val_sequences_tensor, val_labels_tensor)\n",
    "val_loader = DataLoader(val_data, batch_size=32, shuffle=False)\n",
    "###############################################################################################################\n",
    "# TODO: Train the model on the prepared training data. Ensure you implement early stopping to monitor the     #\n",
    "#       validation accuracy and prevent overfitting. Adjust the number of epochs or other hyperparameters as  #\n",
    "#       needed to optimize model performance.                                                                 #\n",
    "###############################################################################################################\n",
    "\n",
    "# Your code for training the model with early stopping goes here\n",
    "# Set the device to GPU if available, otherwise fall back to CPU\n",
    "\n",
    "epochs = 20\n",
    "learning_rate = 0.001\n",
    "batch_size = 32\n",
    "patience = 3  # Early stopping patience\n",
    "\n",
    "# Prepare training data\n",
    "padded_train_sequences = get_sequences(tokenizer, tweets, max_length)\n",
    "train_sequences_tensor = torch.tensor(padded_train_sequences).to(device)\n",
    "train_labels_tensor = torch.tensor(labels).to(device)\n",
    "\n",
    "train_data = TensorDataset(train_sequences_tensor, train_labels_tensor)\n",
    "train_loader = DataLoader(train_data, batch_size=batch_size, shuffle=True)\n",
    "\n",
    "# Loss and optimizer\n",
    "criterion = nn.CrossEntropyLoss()\n",
    "optimizer = optim.Adam(model.parameters(), lr=learning_rate)\n",
    "\n",
    "# Early stopping variables\n",
    "best_val_loss = float('inf')\n",
    "early_stop_counter = 0\n",
    "\n",
    "# Training loop\n",
    "# Initialize arrays to store metrics\n",
    "training_losses = []\n",
    "training_accuracies = []\n",
    "validation_losses = []\n",
    "validation_accuracies = []\n",
    "\n",
    "# Training loop\n",
    "for epoch in range(epochs):\n",
    "    model.train()\n",
    "    train_loss = 0\n",
    "    correct, total = 0, 0\n",
    "\n",
    "    # Training step\n",
    "    for batch in train_loader:\n",
    "        inputs, targets = batch\n",
    "        optimizer.zero_grad()\n",
    "        outputs = model(inputs)\n",
    "        loss = criterion(outputs, targets)\n",
    "        loss.backward()\n",
    "        optimizer.step()\n",
    "\n",
    "        train_loss += loss.item()\n",
    "        _, predicted = torch.max(outputs, 1)\n",
    "        correct += (predicted == targets).sum().item()\n",
    "        total += targets.size(0)\n",
    "\n",
    "    train_accuracy = correct / total\n",
    "    training_losses.append(train_loss / len(train_loader))\n",
    "    training_accuracies.append(train_accuracy)\n",
    "\n",
    "    # Validation step\n",
    "    model.eval()\n",
    "    val_loss = 0\n",
    "    correct, total = 0, 0\n",
    "\n",
    "    with torch.no_grad():\n",
    "        for batch in val_loader:\n",
    "            inputs, targets = batch\n",
    "            outputs = model(inputs)\n",
    "            loss = criterion(outputs, targets)\n",
    "            val_loss += loss.item()\n",
    "            _, predicted = torch.max(outputs, 1)\n",
    "            correct += (predicted == targets).sum().item()\n",
    "            total += targets.size(0)\n",
    "\n",
    "    val_accuracy = correct / total\n",
    "    validation_losses.append(val_loss / len(val_loader))\n",
    "    validation_accuracies.append(val_accuracy)\n",
    "\n",
    "    # Print epoch results\n",
    "    print(f\"Epoch {epoch + 1}/{epochs}\")\n",
    "    print(f\"Training Loss: {training_losses[-1]:.4f} | Training Accuracy: {training_accuracies[-1]:.4f}\")\n",
    "    print(f\"Validation Loss: {validation_losses[-1]:.4f} | Validation Accuracy: {validation_accuracies[-1]:.4f}\")\n",
    "\n",
    "    # Early stopping\n",
    "    if val_loss < best_val_loss:\n",
    "        best_val_loss = val_loss\n",
    "        early_stop_counter = 0\n",
    "        torch.save(model.state_dict(), \"best_model.pth\")  # Save the best model\n",
    "    else:\n",
    "        early_stop_counter += 1\n",
    "        if early_stop_counter >= patience:\n",
    "            print(\"Early stopping triggered.\")\n",
    "            break\n"
   ]
  },
  {
   "cell_type": "markdown",
   "metadata": {},
   "source": [
    "---\n",
    "\n",
    "## Task 9: Evaluating the Model\n",
    "\n",
    "In this task, you will evaluate the performance of your model on the test set and visualize the training history. You will also analyze the model’s predictions on both individual and complete test samples.\n",
    "\n",
    "### Steps:\n",
    "1. Visualize the loss and accuracy over the training epochs.\n",
    "2. Prepare and preprocess the test data using functions from Task 2.\n",
    "3. Evaluate the model on the test set and examine individual predictions.\n",
    "4. Analyze the overall predictions and display a confusion matrix.\n",
    "\n",
    "---"
   ]
  },
  {
   "cell_type": "code",
   "execution_count": 15,
   "metadata": {
    "execution": {
     "iopub.execute_input": "2024-12-24T14:51:37.439603Z",
     "iopub.status.busy": "2024-12-24T14:51:37.438926Z",
     "iopub.status.idle": "2024-12-24T14:51:37.782192Z",
     "shell.execute_reply": "2024-12-24T14:51:37.781354Z",
     "shell.execute_reply.started": "2024-12-24T14:51:37.439575Z"
    },
    "id": "ENCfvXeLxIhX",
    "trusted": true
   },
   "outputs": [
    {
     "data": {
      "image/png": "[encoded data removed]",
      "text/plain": [
       "<Figure size 1600x600 with 2 Axes>"
      ]
     },
     "metadata": {},
     "output_type": "display_data"
    }
   ],
   "source": [
    "###############################################################################################################\n",
    "# TODO: Visualize the training history by plotting the loss and accuracy over the epochs to assess model      #\n",
    "#       performance. Use an appropriate visualization method to ensure clarity and effectiveness.             #\n",
    "#       you can use function implemented in Task 2 for your visualizations                                    #\n",
    "###############################################################################################################\n",
    "\n",
    "# Your code for visualizing the training history goes here\n",
    "###############################################################################################################\n",
    "# TODO: Visualize the training history by plotting the loss and accuracy over the epochs to assess model      #\n",
    "#       performance. Use an appropriate visualization method to ensure clarity and effectiveness.             #\n",
    "#       you can use function implemented in Task 2 for your visualizations                                    #\n",
    "###############################################################################################################\n",
    "\n",
    "# Prepare history dictionary compatible with the plot_history function\n",
    "history = {\n",
    "    'loss': training_losses,\n",
    "    'accuracy': training_accuracies,\n",
    "    'val_loss': validation_losses,\n",
    "    'val_accuracy': validation_accuracies\n",
    "}\n",
    "plot_history(history)"
   ]
  },
  {
   "cell_type": "code",
   "execution_count": 16,
   "metadata": {
    "execution": {
     "iopub.execute_input": "2024-12-24T14:54:12.300052Z",
     "iopub.status.busy": "2024-12-24T14:54:12.299752Z",
     "iopub.status.idle": "2024-12-24T14:54:12.617967Z",
     "shell.execute_reply": "2024-12-24T14:54:12.617194Z",
     "shell.execute_reply.started": "2024-12-24T14:54:12.300029Z"
    },
    "id": "kWuzoz8uxIha",
    "trusted": true
   },
   "outputs": [
    {
     "name": "stdout",
     "output_type": "stream",
     "text": [
      "Test set is prepared. Number of samples: 2000\n"
     ]
    }
   ],
   "source": [
    "###############################################################################################################\n",
    "# TODO: Prepare the test set by extracting the tweets and labels, then convert the tweets into sequences using #\n",
    "#       the tokenizer. Ensure the format matches that of the training and validation sets.                     #\n",
    "###############################################################################################################\n",
    "\n",
    "test_tweets, test_labels = extract_tweets_labels(test)\n",
    "\n",
    "padded_test_sequences = get_sequences(tokenizer, test_tweets, max_length)\n",
    "\n",
    "test_sequences_tensor = torch.tensor(padded_test_sequences).to(device)\n",
    "test_labels_tensor = torch.tensor(test_labels).to(device)\n",
    "\n",
    "test_data = TensorDataset(test_sequences_tensor, test_labels_tensor)\n",
    "test_loader = DataLoader(test_data, batch_size=32, shuffle=False)\n",
    "\n",
    "print(\"Test set is prepared. Number of samples:\", len(test_tweets))"
   ]
  },
  {
   "cell_type": "code",
   "execution_count": 17,
   "metadata": {
    "execution": {
     "iopub.execute_input": "2024-12-24T14:56:05.400026Z",
     "iopub.status.busy": "2024-12-24T14:56:05.399726Z",
     "iopub.status.idle": "2024-12-24T14:56:05.614434Z",
     "shell.execute_reply": "2024-12-24T14:56:05.613565Z",
     "shell.execute_reply.started": "2024-12-24T14:56:05.400005Z"
    },
    "id": "7vRVJ_2SxIhc",
    "trusted": true
   },
   "outputs": [
    {
     "name": "stdout",
     "output_type": "stream",
     "text": [
      "Test Loss: 0.3322\n",
      "Test Accuracy: 0.9035\n",
      "\n",
      "Sample Predictions:\n",
      "Tweet: im feeling rather rotten so im not very ambitious right now\n",
      "Actual Label: sadness, Predicted Label: sadness\n",
      "--------------------------------------------------\n",
      "Tweet: im updating my blog because i feel shitty\n",
      "Actual Label: sadness, Predicted Label: sadness\n",
      "--------------------------------------------------\n",
      "Tweet: i never make her separate from me because i don t ever want her to feel like i m ashamed with her\n",
      "Actual Label: sadness, Predicted Label: sadness\n",
      "--------------------------------------------------\n",
      "Tweet: i left with my bouquet of red and yellow tulips under my arm feeling slightly more optimistic than when i arrived\n",
      "Actual Label: joy, Predicted Label: joy\n",
      "--------------------------------------------------\n",
      "Tweet: i was feeling a little vain when i did this one\n",
      "Actual Label: sadness, Predicted Label: sadness\n",
      "--------------------------------------------------\n"
     ]
    }
   ],
   "source": [
    "###############################################################################################################\n",
    "# TODO: Evaluate the model's performance on the test set. Print the accuracy and loss, and review individual   #\n",
    "#       predictions to understand how the model is performing on unseen data.                                 #\n",
    "###############################################################################################################\n",
    "\n",
    "# Evaluation function\n",
    "def evaluate_model(model, test_loader):\n",
    "    model.eval()\n",
    "    test_loss = 0\n",
    "    correct = 0\n",
    "    total = 0\n",
    "    predictions = []\n",
    "    actuals = []\n",
    "    \n",
    "    with torch.no_grad():\n",
    "        for batch in test_loader:\n",
    "            inputs, targets = batch\n",
    "            outputs = model(inputs)\n",
    "            loss = criterion(outputs, targets)\n",
    "            test_loss += loss.item()\n",
    "            \n",
    "            # Get predictions\n",
    "            _, predicted = torch.max(outputs, 1)\n",
    "            predictions.extend(predicted.cpu().numpy())\n",
    "            actuals.extend(targets.cpu().numpy())\n",
    "            \n",
    "            correct += (predicted == targets).sum().item()\n",
    "            total += targets.size(0)\n",
    "    \n",
    "    accuracy = correct / total\n",
    "    avg_loss = test_loss / len(test_loader)\n",
    "    return avg_loss, accuracy, predictions, actuals\n",
    "\n",
    "# Evaluate the model\n",
    "test_loss, test_accuracy, test_predictions, test_actuals = evaluate_model(model, test_loader)\n",
    "\n",
    "# Print the results\n",
    "print(f\"Test Loss: {test_loss:.4f}\")\n",
    "print(f\"Test Accuracy: {test_accuracy:.4f}\")\n",
    "\n",
    "# Review individual predictions\n",
    "print(\"\\nSample Predictions:\")\n",
    "for i in range(5):  # Display first 5 predictions\n",
    "    print(f\"Tweet: {test_tweets[i]}\")\n",
    "    print(f\"Actual Label: {classes[test_actuals[i]]}, Predicted Label: {classes[test_predictions[i]]}\")\n",
    "    print(\"-\" * 50)"
   ]
  },
  {
   "cell_type": "code",
   "execution_count": 18,
   "metadata": {
    "execution": {
     "iopub.execute_input": "2024-12-24T14:58:26.737505Z",
     "iopub.status.busy": "2024-12-24T14:58:26.737157Z",
     "iopub.status.idle": "2024-12-24T14:58:27.131304Z",
     "shell.execute_reply": "2024-12-24T14:58:27.130600Z",
     "shell.execute_reply.started": "2024-12-24T14:58:26.737479Z"
    },
    "id": "rh638vHG5ej6",
    "trusted": true
   },
   "outputs": [
    {
     "name": "stdout",
     "output_type": "stream",
     "text": [
      "Confusion Matrix:\n"
     ]
    },
    {
     "data": {
      "image/png": "[encoded data removed]",
      "text/plain": [
       "<Figure size 800x800 with 2 Axes>"
      ]
     },
     "metadata": {},
     "output_type": "display_data"
    }
   ],
   "source": [
    "###############################################################################################################\n",
    "# TODO: Generate predictions for all test samples and analyze the model's overall performance. Display the     #\n",
    "#       confusion matrix to visualize the differences between true and predicted labels, helping to interpret  #\n",
    "#       the model's classification results.                                                                   #\n",
    "###############################################################################################################\n",
    "\n",
    "print(\"Confusion Matrix:\")\n",
    "visualize_confusion_matrix(test_actuals, test_predictions, classes)"
   ]
  },
  {
   "cell_type": "markdown",
   "metadata": {},
   "source": [
    "# Final Analysis\n",
    "\n",
    "After visualizing the confusion matrix based on your model’s predictions, analyze the results and provide insights into the model’s classification performance.\n",
    "\n",
    "### **Question:**\n",
    "<span style=\"font-size: 1.2em;\">Which class seems to get confused with the class *love* the most?</span>\n",
    "\n",
    "**Remember the class labels:**\n",
    "- **0:** *Sadness*\n",
    "- **1:** *Joy*\n",
    "- **2:** *Love*\n",
    "- **3:** *Anger*\n",
    "- **4:** *Fear*\n",
    "- **5:** *Surprise*\n",
    "\n",
    "Reflect on the confusion matrix to answer this question and provide your reasoning for why this confusion might occur based on the emotional nature of the classes.\n"
   ]
  },
  {
   "cell_type": "markdown",
   "metadata": {},
   "source": [
    "The confusion matrix shows that the model performs well for emotions like sadness, anger, and fear but struggles with love and joy. Love is often misclassified as joy, and joy as love, likely because these emotions share subtle and overlapping features, making them challenging to separate. Despite the data being balanced, the model may still have difficulty capturing the unique patterns or signals that distinguish these closely related emotions. This could be due to limitations in the feature representation or the complexity of the emotions themselves. Refining the feature extraction process or using more expressive models might help improve the distinction between these emotions."
   ]
  },
  {
   "cell_type": "markdown",
   "metadata": {},
   "source": [
    "# **Best regards.**"
   ]
  }
 ],
 "metadata": {
  "accelerator": "GPU",
  "colab": {
   "provenance": []
  },
  "kaggle": {
   "accelerator": "gpu",
   "dataSources": [],
   "dockerImageVersionId": 30823,
   "isGpuEnabled": true,
   "isInternetEnabled": true,
   "language": "python",
   "sourceType": "notebook"
  },
  "kernelspec": {
   "display_name": "Python 3",
   "language": "python",
   "name": "python3"
  },
  "language_info": {
   "codemirror_mode": {
    "name": "ipython",
    "version": 3
   },
   "file_extension": ".py",
   "mimetype": "text/x-python",
   "name": "python",
   "nbconvert_exporter": "python",
   "pygments_lexer": "ipython3",
   "version": "3.10.12"
  }
 },
 "nbformat": 4,
 "nbformat_minor": 4
}
